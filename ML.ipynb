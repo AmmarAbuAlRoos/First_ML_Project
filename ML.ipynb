{
  "nbformat": 4,
  "nbformat_minor": 0,
  "metadata": {
    "colab": {
      "provenance": [],
      "authorship_tag": "ABX9TyNakCmkQTQvawBTEvrqOaRY",
      "include_colab_link": true
    },
    "kernelspec": {
      "name": "python3",
      "display_name": "Python 3"
    },
    "language_info": {
      "name": "python"
    }
  },
  "cells": [
    {
      "cell_type": "markdown",
      "metadata": {
        "id": "view-in-github",
        "colab_type": "text"
      },
      "source": [
        "<a href=\"https://colab.research.google.com/github/AmmarAbuAlRoos/First_ML_Project/blob/main/ML.ipynb\" target=\"_parent\"><img src=\"https://colab.research.google.com/assets/colab-badge.svg\" alt=\"Open In Colab\"/></a>"
      ]
    },
    {
      "cell_type": "markdown",
      "source": [
        "Strating Lecture 2"
      ],
      "metadata": {
        "id": "hLKEQ9lsf0Sl"
      }
    },
    {
      "cell_type": "markdown",
      "source": [
        "# Bussness = Problem statement\n",
        "'''discover  type of ml regression, classification....\n",
        "as ML try and error alot because there is no defult corelation\n",
        "\n",
        "evaluation matrix\n",
        "Speed and time  \n",
        "space\n",
        "clean\n",
        "'''\n",
        "# DE Data Engineer\n",
        "# define features and store it\n",
        "# DA Data Analisys\n",
        "\n",
        "'''\n",
        "power PI\n",
        "Statistics and probility\n",
        " study data for insight it then makes report to desction maker\n",
        "'''\n",
        "# DS Data Sienctist\n",
        "# make model\n",
        "# MLOps\n",
        "'''\n",
        "\n",
        "\n",
        "'''"
      ],
      "metadata": {
        "id": "ZzgY7e7pqDWS"
      }
    },
    {
      "cell_type": "code",
      "source": [
        "#pip install numpy\n",
        "import numpy as np #define numpy as np #\n",
        "np.array\n",
        "#pandas\n",
        "import pandas as pd\n",
        "\n",
        "# CRUD in data\n",
        "#matplotlib\n",
        "\n"
      ],
      "metadata": {
        "id": "3iU-Lz1Ef12f"
      },
      "execution_count": null,
      "outputs": []
    }
  ]
}